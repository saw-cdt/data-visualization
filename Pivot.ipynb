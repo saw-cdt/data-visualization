{
 "cells": [
  {
   "cell_type": "code",
   "execution_count": 1,
   "id": "b5903c99-30e0-4dc8-843a-341518108fd1",
   "metadata": {},
   "outputs": [],
   "source": [
    "import pandas as pd"
   ]
  },
  {
   "cell_type": "code",
   "execution_count": 2,
   "id": "8c92bf88-4a86-42ea-9b5a-f3052b493c02",
   "metadata": {},
   "outputs": [],
   "source": [
    "df_population_raw = pd.read_csv('population_total.csv')"
   ]
  },
  {
   "cell_type": "code",
   "execution_count": 3,
   "id": "e3362fe3-ba87-4306-9dfd-360967fbe7e0",
   "metadata": {},
   "outputs": [
    {
     "data": {
      "text/html": [
       "<div>\n",
       "<style scoped>\n",
       "    .dataframe tbody tr th:only-of-type {\n",
       "        vertical-align: middle;\n",
       "    }\n",
       "\n",
       "    .dataframe tbody tr th {\n",
       "        vertical-align: top;\n",
       "    }\n",
       "\n",
       "    .dataframe thead th {\n",
       "        text-align: right;\n",
       "    }\n",
       "</style>\n",
       "<table border=\"1\" class=\"dataframe\">\n",
       "  <thead>\n",
       "    <tr style=\"text-align: right;\">\n",
       "      <th></th>\n",
       "      <th>country</th>\n",
       "      <th>year</th>\n",
       "      <th>population</th>\n",
       "    </tr>\n",
       "  </thead>\n",
       "  <tbody>\n",
       "    <tr>\n",
       "      <th>0</th>\n",
       "      <td>China</td>\n",
       "      <td>2020.0</td>\n",
       "      <td>1.439324e+09</td>\n",
       "    </tr>\n",
       "    <tr>\n",
       "      <th>1</th>\n",
       "      <td>China</td>\n",
       "      <td>2019.0</td>\n",
       "      <td>1.433784e+09</td>\n",
       "    </tr>\n",
       "    <tr>\n",
       "      <th>2</th>\n",
       "      <td>China</td>\n",
       "      <td>2018.0</td>\n",
       "      <td>1.427648e+09</td>\n",
       "    </tr>\n",
       "  </tbody>\n",
       "</table>\n",
       "</div>"
      ],
      "text/plain": [
       "  country    year    population\n",
       "0   China  2020.0  1.439324e+09\n",
       "1   China  2019.0  1.433784e+09\n",
       "2   China  2018.0  1.427648e+09"
      ]
     },
     "execution_count": 3,
     "metadata": {},
     "output_type": "execute_result"
    }
   ],
   "source": [
    "df_population_raw.head(3)"
   ]
  },
  {
   "cell_type": "markdown",
   "id": "10e449b7-205e-4127-9a45-8c17d380cb96",
   "metadata": {},
   "source": [
    "# Making the pivot table"
   ]
  },
  {
   "cell_type": "code",
   "execution_count": 6,
   "id": "f641459f-6bd9-468d-89d1-2b65f67a365b",
   "metadata": {},
   "outputs": [],
   "source": [
    "df_population_raw.dropna(inplace=True)"
   ]
  },
  {
   "cell_type": "code",
   "execution_count": 7,
   "id": "c70ad286-d79e-451e-a202-a08d5bb387dd",
   "metadata": {},
   "outputs": [],
   "source": [
    "df_pivot = df_population_raw.pivot(index='year',\n",
    "                                   columns = 'country',\n",
    "                                   values='population')"
   ]
  },
  {
   "cell_type": "code",
   "execution_count": 8,
   "id": "4f37c178-2b20-4dc7-bab9-e9cc1ba24112",
   "metadata": {},
   "outputs": [],
   "source": [
    "df_pivot = df_pivot[['Mexico','United States','China','Russia','Argentina']]"
   ]
  },
  {
   "cell_type": "code",
   "execution_count": 9,
   "id": "65fed5ed-fb82-496b-9549-2f4db69ccb3b",
   "metadata": {},
   "outputs": [
    {
     "data": {
      "text/html": [
       "<div>\n",
       "<style scoped>\n",
       "    .dataframe tbody tr th:only-of-type {\n",
       "        vertical-align: middle;\n",
       "    }\n",
       "\n",
       "    .dataframe tbody tr th {\n",
       "        vertical-align: top;\n",
       "    }\n",
       "\n",
       "    .dataframe thead th {\n",
       "        text-align: right;\n",
       "    }\n",
       "</style>\n",
       "<table border=\"1\" class=\"dataframe\">\n",
       "  <thead>\n",
       "    <tr style=\"text-align: right;\">\n",
       "      <th>country</th>\n",
       "      <th>Mexico</th>\n",
       "      <th>United States</th>\n",
       "      <th>China</th>\n",
       "      <th>Russia</th>\n",
       "      <th>Argentina</th>\n",
       "    </tr>\n",
       "    <tr>\n",
       "      <th>year</th>\n",
       "      <th></th>\n",
       "      <th></th>\n",
       "      <th></th>\n",
       "      <th></th>\n",
       "      <th></th>\n",
       "    </tr>\n",
       "  </thead>\n",
       "  <tbody>\n",
       "    <tr>\n",
       "      <th>1955.0</th>\n",
       "      <td>32350596.0</td>\n",
       "      <td>171685336.0</td>\n",
       "      <td>612241554.0</td>\n",
       "      <td>111355300.0</td>\n",
       "      <td>18789418.0</td>\n",
       "    </tr>\n",
       "    <tr>\n",
       "      <th>1960.0</th>\n",
       "      <td>37771859.0</td>\n",
       "      <td>186720571.0</td>\n",
       "      <td>660408056.0</td>\n",
       "      <td>119871700.0</td>\n",
       "      <td>20481779.0</td>\n",
       "    </tr>\n",
       "    <tr>\n",
       "      <th>1965.0</th>\n",
       "      <td>44123853.0</td>\n",
       "      <td>199733676.0</td>\n",
       "      <td>724218968.0</td>\n",
       "      <td>126503736.0</td>\n",
       "      <td>22159650.0</td>\n",
       "    </tr>\n",
       "    <tr>\n",
       "      <th>1970.0</th>\n",
       "      <td>51493565.0</td>\n",
       "      <td>209513341.0</td>\n",
       "      <td>827601394.0</td>\n",
       "      <td>130148653.0</td>\n",
       "      <td>23880561.0</td>\n",
       "    </tr>\n",
       "    <tr>\n",
       "      <th>1975.0</th>\n",
       "      <td>59607953.0</td>\n",
       "      <td>219081251.0</td>\n",
       "      <td>926240885.0</td>\n",
       "      <td>133804858.0</td>\n",
       "      <td>25865776.0</td>\n",
       "    </tr>\n",
       "  </tbody>\n",
       "</table>\n",
       "</div>"
      ],
      "text/plain": [
       "country      Mexico  United States        China       Russia   Argentina\n",
       "year                                                                    \n",
       "1955.0   32350596.0    171685336.0  612241554.0  111355300.0  18789418.0\n",
       "1960.0   37771859.0    186720571.0  660408056.0  119871700.0  20481779.0\n",
       "1965.0   44123853.0    199733676.0  724218968.0  126503736.0  22159650.0\n",
       "1970.0   51493565.0    209513341.0  827601394.0  130148653.0  23880561.0\n",
       "1975.0   59607953.0    219081251.0  926240885.0  133804858.0  25865776.0"
      ]
     },
     "execution_count": 9,
     "metadata": {},
     "output_type": "execute_result"
    }
   ],
   "source": [
    "df_pivot.head()"
   ]
  }
 ],
 "metadata": {
  "kernelspec": {
   "display_name": "Python 3 (ipykernel)",
   "language": "python",
   "name": "python3"
  },
  "language_info": {
   "codemirror_mode": {
    "name": "ipython",
    "version": 3
   },
   "file_extension": ".py",
   "mimetype": "text/x-python",
   "name": "python",
   "nbconvert_exporter": "python",
   "pygments_lexer": "ipython3",
   "version": "3.12.7"
  }
 },
 "nbformat": 4,
 "nbformat_minor": 5
}

{
 "cells": [
  {
   "cell_type": "code",
   "execution_count": null,
   "id": "b5903c99-30e0-4dc8-843a-341518108fd1",
   "metadata": {},
   "outputs": [],
   "source": [
    "import pandas as pd\n",
    "import matplotlib.pyplot as plt"
   ]
  },
  {
   "cell_type": "code",
   "execution_count": null,
   "id": "8c92bf88-4a86-42ea-9b5a-f3052b493c02",
   "metadata": {},
   "outputs": [],
   "source": [
    "df_population_raw = pd.read_csv('population_total.csv')"
   ]
  },
  {
   "cell_type": "code",
   "execution_count": null,
   "id": "e3362fe3-ba87-4306-9dfd-360967fbe7e0",
   "metadata": {},
   "outputs": [],
   "source": [
    "df_population_raw.head(3)"
   ]
  },
  {
   "cell_type": "markdown",
   "id": "10e449b7-205e-4127-9a45-8c17d380cb96",
   "metadata": {},
   "source": [
    "# Making the pivot table"
   ]
  },
  {
   "cell_type": "code",
   "execution_count": null,
   "id": "f641459f-6bd9-468d-89d1-2b65f67a365b",
   "metadata": {},
   "outputs": [],
   "source": [
    "df_population_raw.dropna(inplace=True)"
   ]
  },
  {
   "cell_type": "code",
   "execution_count": null,
   "id": "c70ad286-d79e-451e-a202-a08d5bb387dd",
   "metadata": {},
   "outputs": [],
   "source": [
    "df_pivot = df_population_raw.pivot(index='year',\n",
    "                                   columns = 'country',\n",
    "                                   values='population')"
   ]
  },
  {
   "cell_type": "code",
   "execution_count": null,
   "id": "4f37c178-2b20-4dc7-bab9-e9cc1ba24112",
   "metadata": {},
   "outputs": [],
   "source": [
    "df_pivot = df_pivot[['Mexico','United States','China','Russia','Argentina']]"
   ]
  },
  {
   "cell_type": "code",
   "execution_count": null,
   "id": "65fed5ed-fb82-496b-9549-2f4db69ccb3b",
   "metadata": {},
   "outputs": [],
   "source": [
    "df_pivot.head()"
   ]
  },
  {
   "cell_type": "markdown",
   "id": "b5d8a52d-1fd2-48b5-8616-f685dc3d11fc",
   "metadata": {},
   "source": [
    "# Lineplot"
   ]
  },
  {
   "cell_type": "code",
   "execution_count": null,
   "id": "cf24e5c0-ba4f-4f82-9a3e-4ad83999c3a9",
   "metadata": {},
   "outputs": [],
   "source": [
    "df_pivot.to_excel('tabla_pivote.xsls')"
   ]
  },
  {
   "cell_type": "code",
   "execution_count": null,
   "id": "543356aa-aff6-44ce-8ccd-4f70994b9c7a",
   "metadata": {},
   "outputs": [],
   "source": [
    "df_pivot.plot(kind='line', xlabel='Years', ylabel = 'Population',\n",
    "              title='Population (1995-2020)', figsize=(8,4))\n",
    "plt.savefig('my_test.png')\n",
    "plt.show()"
   ]
  },
  {
   "cell_type": "markdown",
   "id": "5e5b623c-c2e1-4993-98df-0dde46841ccd",
   "metadata": {},
   "source": [
    "# Barplot"
   ]
  },
  {
   "cell_type": "code",
   "execution_count": null,
   "id": "7581a490-a630-4179-b12e-289d16d2e498",
   "metadata": {},
   "outputs": [],
   "source": [
    "df_pivot_2020 = df_pivot[df_pivot.index.isin([2020])]"
   ]
  },
  {
   "cell_type": "code",
   "execution_count": null,
   "id": "74348f9c-4f74-409d-927f-2f6a7065169c",
   "metadata": {},
   "outputs": [],
   "source": [
    "df_pivot_2020 = df_pivot_2020.T"
   ]
  },
  {
   "cell_type": "code",
   "execution_count": null,
   "id": "3df7cc36-3637-4d64-99b3-89af7dc235e5",
   "metadata": {},
   "outputs": [],
   "source": [
    "df_pivot_2020.plot(kind='bar', color='red',\n",
    "                   xlabel='Countries', ylabel='Population',\n",
    "                   title='Population 2020')"
   ]
  },
  {
   "cell_type": "code",
   "execution_count": null,
   "id": "cb414019-b966-4d4e-9e15-e185c940289f",
   "metadata": {},
   "outputs": [],
   "source": [
    "df_pivot_sample = df_pivot[df_pivot.index.isin([1980,1990,2000,2010,2020])]"
   ]
  },
  {
   "cell_type": "code",
   "execution_count": null,
   "id": "eea79f94-042a-46b0-812b-2827e46d0c57",
   "metadata": {},
   "outputs": [],
   "source": [
    "df_pivot_sample.plot(kind='bar', xlabel='Countries', ylabel='Population', \n",
    "                     title='Population sample')"
   ]
  },
  {
   "cell_type": "markdown",
   "id": "26a1f621-9c92-49b8-bc98-43e6fc04c2fd",
   "metadata": {},
   "source": [
    "# Piechart"
   ]
  },
  {
   "cell_type": "code",
   "execution_count": null,
   "id": "bbd4f800-9972-4f4c-b976-d63f0756334d",
   "metadata": {},
   "outputs": [],
   "source": [
    "df_pivot_2020.rename(columns= {2020:'2020'}, inplace = True) "
   ]
  },
  {
   "cell_type": "code",
   "execution_count": null,
   "id": "c9d115af-bd51-4228-8457-a020071a6313",
   "metadata": {},
   "outputs": [],
   "source": [
    "df_pivot_2020.plot(kind='pie', y = '2020', title=\"Population in 2020(%)\")"
   ]
  },
  {
   "cell_type": "markdown",
   "id": "fc991faa-95fd-4d2b-8b4e-b41b8091fe37",
   "metadata": {},
   "source": [
    "# Boxplot"
   ]
  },
  {
   "cell_type": "code",
   "execution_count": null,
   "id": "578bd5b7-d2c0-4911-9fd4-daffa70a9850",
   "metadata": {},
   "outputs": [],
   "source": [
    "df_pivot['Mexico'].plot(kind='box', color='red', ylabel='Population')"
   ]
  },
  {
   "cell_type": "code",
   "execution_count": null,
   "id": "0775b326-e53e-4d8f-af1b-8f96988c39b5",
   "metadata": {},
   "outputs": [],
   "source": [
    "df_pivot.plot(kind='box')"
   ]
  },
  {
   "cell_type": "markdown",
   "id": "bea4c478-14f2-4f2d-a8a5-5a71fd1e7c62",
   "metadata": {},
   "source": [
    "# Histogram"
   ]
  },
  {
   "cell_type": "code",
   "execution_count": null,
   "id": "52c7c254-81fc-4c6d-b4e5-f2cf032bc2f5",
   "metadata": {},
   "outputs": [],
   "source": [
    "df_pivot[['United States', 'Mexico']].plot(kind = 'hist')"
   ]
  },
  {
   "cell_type": "markdown",
   "id": "34d6ec9e-0b41-4d50-bd80-9a5c01a5d87d",
   "metadata": {},
   "source": [
    "# ScatterPlot"
   ]
  },
  {
   "cell_type": "code",
   "execution_count": null,
   "id": "6c2a3461-a01d-4626-8577-b94fbc46dc06",
   "metadata": {},
   "outputs": [],
   "source": [
    "sample = df_population_raw['country'].isin(['United States', 'India', 'China', 'Mexico', 'Russia'])"
   ]
  },
  {
   "cell_type": "code",
   "execution_count": null,
   "id": "86420b6a-559b-4e9a-b7d0-1df936d295f8",
   "metadata": {},
   "outputs": [],
   "source": [
    "df_sample = df_population_raw[sample]"
   ]
  },
  {
   "cell_type": "code",
   "execution_count": null,
   "id": "69817dbe-5dea-4e61-9b47-2acbb5dad494",
   "metadata": {},
   "outputs": [],
   "source": [
    "df_sample.plot(kind='scatter',\n",
    "               x = 'year',\n",
    "               y = 'population')"
   ]
  }
 ],
 "metadata": {
  "kernelspec": {
   "display_name": "Python 3 (ipykernel)",
   "language": "python",
   "name": "python3"
  },
  "language_info": {
   "codemirror_mode": {
    "name": "ipython",
    "version": 3
   },
   "file_extension": ".py",
   "mimetype": "text/x-python",
   "name": "python",
   "nbconvert_exporter": "python",
   "pygments_lexer": "ipython3",
   "version": "3.12.7"
  }
 },
 "nbformat": 4,
 "nbformat_minor": 5
}
